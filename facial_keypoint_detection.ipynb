{
  "nbformat": 4,
  "nbformat_minor": 0,
  "metadata": {
    "colab": {
      "name": "Copy of facial-keypoint-detection.ipynb",
      "provenance": [],
      "collapsed_sections": [],
      "authorship_tag": "ABX9TyOCGn3glYrZmCC0UgRSaGRq"
    },
    "kernelspec": {
      "name": "python3",
      "display_name": "Python 3"
    },
    "accelerator": "GPU"
  },
  "cells": [
    {
      "cell_type": "code",
      "metadata": {
        "id": "SIWnhj2uyn2j"
      },
      "source": [
        "import pandas as pd\n",
        "import numpy as np\n",
        "import tensorflow as tf\n",
        "import matplotlib.pyplot as plt\n",
        "import csv\n",
        "\n",
        "\n",
        "pd.options.display.max_rows = 1000\n",
        "pd.options.display.max_columns = 20\n",
        "\n",
        "\n",
        "# reading the data\n",
        "train = pd.read_csv('training.csv')\n",
        "test = pd.read_csv('test.csv')\n",
        "IdLook = pd.read_csv('IdLookupTable.csv')\n",
        "\n"
      ],
      "execution_count": 34,
      "outputs": []
    },
    {
      "cell_type": "code",
      "metadata": {
        "id": "qix7QlRXA9ZC",
        "outputId": "fc4d3260-becd-4ba0-c357-74a6cb501ece",
        "colab": {
          "base_uri": "https://localhost:8080/",
          "height": 1000
        }
      },
      "source": [
        "train.head(5).T"
      ],
      "execution_count": 35,
      "outputs": [
        {
          "output_type": "execute_result",
          "data": {
            "text/html": [
              "<div>\n",
              "<style scoped>\n",
              "    .dataframe tbody tr th:only-of-type {\n",
              "        vertical-align: middle;\n",
              "    }\n",
              "\n",
              "    .dataframe tbody tr th {\n",
              "        vertical-align: top;\n",
              "    }\n",
              "\n",
              "    .dataframe thead th {\n",
              "        text-align: right;\n",
              "    }\n",
              "</style>\n",
              "<table border=\"1\" class=\"dataframe\">\n",
              "  <thead>\n",
              "    <tr style=\"text-align: right;\">\n",
              "      <th></th>\n",
              "      <th>0</th>\n",
              "      <th>1</th>\n",
              "      <th>2</th>\n",
              "      <th>3</th>\n",
              "      <th>4</th>\n",
              "    </tr>\n",
              "  </thead>\n",
              "  <tbody>\n",
              "    <tr>\n",
              "      <th>left_eye_center_x</th>\n",
              "      <td>66.0336</td>\n",
              "      <td>64.3329</td>\n",
              "      <td>65.0571</td>\n",
              "      <td>65.2257</td>\n",
              "      <td>66.7253</td>\n",
              "    </tr>\n",
              "    <tr>\n",
              "      <th>left_eye_center_y</th>\n",
              "      <td>39.0023</td>\n",
              "      <td>34.9701</td>\n",
              "      <td>34.9096</td>\n",
              "      <td>37.2618</td>\n",
              "      <td>39.6213</td>\n",
              "    </tr>\n",
              "    <tr>\n",
              "      <th>right_eye_center_x</th>\n",
              "      <td>30.227</td>\n",
              "      <td>29.9493</td>\n",
              "      <td>30.9038</td>\n",
              "      <td>32.0231</td>\n",
              "      <td>32.2448</td>\n",
              "    </tr>\n",
              "    <tr>\n",
              "      <th>right_eye_center_y</th>\n",
              "      <td>36.4217</td>\n",
              "      <td>33.4487</td>\n",
              "      <td>34.9096</td>\n",
              "      <td>37.2618</td>\n",
              "      <td>38.042</td>\n",
              "    </tr>\n",
              "    <tr>\n",
              "      <th>left_eye_inner_corner_x</th>\n",
              "      <td>59.5821</td>\n",
              "      <td>58.8562</td>\n",
              "      <td>59.412</td>\n",
              "      <td>60.0033</td>\n",
              "      <td>58.5659</td>\n",
              "    </tr>\n",
              "    <tr>\n",
              "      <th>left_eye_inner_corner_y</th>\n",
              "      <td>39.6474</td>\n",
              "      <td>35.2743</td>\n",
              "      <td>36.321</td>\n",
              "      <td>39.1272</td>\n",
              "      <td>39.6213</td>\n",
              "    </tr>\n",
              "    <tr>\n",
              "      <th>left_eye_outer_corner_x</th>\n",
              "      <td>73.1303</td>\n",
              "      <td>70.7227</td>\n",
              "      <td>70.9844</td>\n",
              "      <td>72.3147</td>\n",
              "      <td>72.5159</td>\n",
              "    </tr>\n",
              "    <tr>\n",
              "      <th>left_eye_outer_corner_y</th>\n",
              "      <td>39.97</td>\n",
              "      <td>36.1872</td>\n",
              "      <td>36.321</td>\n",
              "      <td>38.381</td>\n",
              "      <td>39.8845</td>\n",
              "    </tr>\n",
              "    <tr>\n",
              "      <th>right_eye_inner_corner_x</th>\n",
              "      <td>36.3566</td>\n",
              "      <td>36.0347</td>\n",
              "      <td>37.6781</td>\n",
              "      <td>37.6186</td>\n",
              "      <td>36.9824</td>\n",
              "    </tr>\n",
              "    <tr>\n",
              "      <th>right_eye_inner_corner_y</th>\n",
              "      <td>37.3894</td>\n",
              "      <td>34.3615</td>\n",
              "      <td>36.321</td>\n",
              "      <td>38.7541</td>\n",
              "      <td>39.0949</td>\n",
              "    </tr>\n",
              "    <tr>\n",
              "      <th>right_eye_outer_corner_x</th>\n",
              "      <td>23.4529</td>\n",
              "      <td>24.4725</td>\n",
              "      <td>24.9764</td>\n",
              "      <td>25.3073</td>\n",
              "      <td>22.5061</td>\n",
              "    </tr>\n",
              "    <tr>\n",
              "      <th>right_eye_outer_corner_y</th>\n",
              "      <td>37.3894</td>\n",
              "      <td>33.1444</td>\n",
              "      <td>36.6032</td>\n",
              "      <td>38.0079</td>\n",
              "      <td>38.3052</td>\n",
              "    </tr>\n",
              "    <tr>\n",
              "      <th>left_eyebrow_inner_end_x</th>\n",
              "      <td>56.9533</td>\n",
              "      <td>53.9874</td>\n",
              "      <td>55.7425</td>\n",
              "      <td>56.4338</td>\n",
              "      <td>57.2496</td>\n",
              "    </tr>\n",
              "    <tr>\n",
              "      <th>left_eyebrow_inner_end_y</th>\n",
              "      <td>29.0336</td>\n",
              "      <td>28.2759</td>\n",
              "      <td>27.5709</td>\n",
              "      <td>30.9299</td>\n",
              "      <td>30.6722</td>\n",
              "    </tr>\n",
              "    <tr>\n",
              "      <th>left_eyebrow_outer_end_x</th>\n",
              "      <td>80.2271</td>\n",
              "      <td>78.6342</td>\n",
              "      <td>78.8874</td>\n",
              "      <td>77.9103</td>\n",
              "      <td>77.7629</td>\n",
              "    </tr>\n",
              "    <tr>\n",
              "      <th>left_eyebrow_outer_end_y</th>\n",
              "      <td>32.2281</td>\n",
              "      <td>30.4059</td>\n",
              "      <td>32.6516</td>\n",
              "      <td>31.6657</td>\n",
              "      <td>31.7372</td>\n",
              "    </tr>\n",
              "    <tr>\n",
              "      <th>right_eyebrow_inner_end_x</th>\n",
              "      <td>40.2276</td>\n",
              "      <td>42.7289</td>\n",
              "      <td>42.1939</td>\n",
              "      <td>41.6715</td>\n",
              "      <td>38.0354</td>\n",
              "    </tr>\n",
              "    <tr>\n",
              "      <th>right_eyebrow_inner_end_y</th>\n",
              "      <td>29.0023</td>\n",
              "      <td>26.146</td>\n",
              "      <td>28.1355</td>\n",
              "      <td>31.05</td>\n",
              "      <td>30.9354</td>\n",
              "    </tr>\n",
              "    <tr>\n",
              "      <th>right_eyebrow_outer_end_x</th>\n",
              "      <td>16.3564</td>\n",
              "      <td>16.8654</td>\n",
              "      <td>16.7912</td>\n",
              "      <td>20.458</td>\n",
              "      <td>15.9259</td>\n",
              "    </tr>\n",
              "    <tr>\n",
              "      <th>right_eyebrow_outer_end_y</th>\n",
              "      <td>29.6475</td>\n",
              "      <td>27.0589</td>\n",
              "      <td>32.0871</td>\n",
              "      <td>29.9093</td>\n",
              "      <td>30.6722</td>\n",
              "    </tr>\n",
              "    <tr>\n",
              "      <th>nose_tip_x</th>\n",
              "      <td>44.4206</td>\n",
              "      <td>48.2063</td>\n",
              "      <td>47.5573</td>\n",
              "      <td>51.8851</td>\n",
              "      <td>43.2995</td>\n",
              "    </tr>\n",
              "    <tr>\n",
              "      <th>nose_tip_y</th>\n",
              "      <td>57.0668</td>\n",
              "      <td>55.6609</td>\n",
              "      <td>53.5389</td>\n",
              "      <td>54.1665</td>\n",
              "      <td>64.8895</td>\n",
              "    </tr>\n",
              "    <tr>\n",
              "      <th>mouth_left_corner_x</th>\n",
              "      <td>61.1953</td>\n",
              "      <td>56.4214</td>\n",
              "      <td>60.8229</td>\n",
              "      <td>65.5989</td>\n",
              "      <td>60.6714</td>\n",
              "    </tr>\n",
              "    <tr>\n",
              "      <th>mouth_left_corner_y</th>\n",
              "      <td>79.9702</td>\n",
              "      <td>76.352</td>\n",
              "      <td>73.0143</td>\n",
              "      <td>72.7037</td>\n",
              "      <td>77.5232</td>\n",
              "    </tr>\n",
              "    <tr>\n",
              "      <th>mouth_right_corner_x</th>\n",
              "      <td>28.6145</td>\n",
              "      <td>35.1224</td>\n",
              "      <td>33.7263</td>\n",
              "      <td>37.2455</td>\n",
              "      <td>31.1918</td>\n",
              "    </tr>\n",
              "    <tr>\n",
              "      <th>mouth_right_corner_y</th>\n",
              "      <td>77.389</td>\n",
              "      <td>76.0477</td>\n",
              "      <td>72.732</td>\n",
              "      <td>74.1955</td>\n",
              "      <td>76.9973</td>\n",
              "    </tr>\n",
              "    <tr>\n",
              "      <th>mouth_center_top_lip_x</th>\n",
              "      <td>43.3126</td>\n",
              "      <td>46.6846</td>\n",
              "      <td>47.2749</td>\n",
              "      <td>50.3032</td>\n",
              "      <td>44.9627</td>\n",
              "    </tr>\n",
              "    <tr>\n",
              "      <th>mouth_center_top_lip_y</th>\n",
              "      <td>72.9355</td>\n",
              "      <td>70.2666</td>\n",
              "      <td>70.1918</td>\n",
              "      <td>70.0917</td>\n",
              "      <td>73.7074</td>\n",
              "    </tr>\n",
              "    <tr>\n",
              "      <th>mouth_center_bottom_lip_x</th>\n",
              "      <td>43.1307</td>\n",
              "      <td>45.4679</td>\n",
              "      <td>47.2749</td>\n",
              "      <td>51.5612</td>\n",
              "      <td>44.2271</td>\n",
              "    </tr>\n",
              "    <tr>\n",
              "      <th>mouth_center_bottom_lip_y</th>\n",
              "      <td>84.4858</td>\n",
              "      <td>85.4802</td>\n",
              "      <td>78.6594</td>\n",
              "      <td>78.2684</td>\n",
              "      <td>86.8712</td>\n",
              "    </tr>\n",
              "    <tr>\n",
              "      <th>Image</th>\n",
              "      <td>238 236 237 238 240 240 239 241 241 243 240 23...</td>\n",
              "      <td>219 215 204 196 204 211 212 200 180 168 178 19...</td>\n",
              "      <td>144 142 159 180 188 188 184 180 167 132 84 59 ...</td>\n",
              "      <td>193 192 193 194 194 194 193 192 168 111 50 12 ...</td>\n",
              "      <td>147 148 160 196 215 214 216 217 219 220 206 18...</td>\n",
              "    </tr>\n",
              "  </tbody>\n",
              "</table>\n",
              "</div>"
            ],
            "text/plain": [
              "                                                                           0  \\\n",
              "left_eye_center_x                                                    66.0336   \n",
              "left_eye_center_y                                                    39.0023   \n",
              "right_eye_center_x                                                    30.227   \n",
              "right_eye_center_y                                                   36.4217   \n",
              "left_eye_inner_corner_x                                              59.5821   \n",
              "left_eye_inner_corner_y                                              39.6474   \n",
              "left_eye_outer_corner_x                                              73.1303   \n",
              "left_eye_outer_corner_y                                                39.97   \n",
              "right_eye_inner_corner_x                                             36.3566   \n",
              "right_eye_inner_corner_y                                             37.3894   \n",
              "right_eye_outer_corner_x                                             23.4529   \n",
              "right_eye_outer_corner_y                                             37.3894   \n",
              "left_eyebrow_inner_end_x                                             56.9533   \n",
              "left_eyebrow_inner_end_y                                             29.0336   \n",
              "left_eyebrow_outer_end_x                                             80.2271   \n",
              "left_eyebrow_outer_end_y                                             32.2281   \n",
              "right_eyebrow_inner_end_x                                            40.2276   \n",
              "right_eyebrow_inner_end_y                                            29.0023   \n",
              "right_eyebrow_outer_end_x                                            16.3564   \n",
              "right_eyebrow_outer_end_y                                            29.6475   \n",
              "nose_tip_x                                                           44.4206   \n",
              "nose_tip_y                                                           57.0668   \n",
              "mouth_left_corner_x                                                  61.1953   \n",
              "mouth_left_corner_y                                                  79.9702   \n",
              "mouth_right_corner_x                                                 28.6145   \n",
              "mouth_right_corner_y                                                  77.389   \n",
              "mouth_center_top_lip_x                                               43.3126   \n",
              "mouth_center_top_lip_y                                               72.9355   \n",
              "mouth_center_bottom_lip_x                                            43.1307   \n",
              "mouth_center_bottom_lip_y                                            84.4858   \n",
              "Image                      238 236 237 238 240 240 239 241 241 243 240 23...   \n",
              "\n",
              "                                                                           1  \\\n",
              "left_eye_center_x                                                    64.3329   \n",
              "left_eye_center_y                                                    34.9701   \n",
              "right_eye_center_x                                                   29.9493   \n",
              "right_eye_center_y                                                   33.4487   \n",
              "left_eye_inner_corner_x                                              58.8562   \n",
              "left_eye_inner_corner_y                                              35.2743   \n",
              "left_eye_outer_corner_x                                              70.7227   \n",
              "left_eye_outer_corner_y                                              36.1872   \n",
              "right_eye_inner_corner_x                                             36.0347   \n",
              "right_eye_inner_corner_y                                             34.3615   \n",
              "right_eye_outer_corner_x                                             24.4725   \n",
              "right_eye_outer_corner_y                                             33.1444   \n",
              "left_eyebrow_inner_end_x                                             53.9874   \n",
              "left_eyebrow_inner_end_y                                             28.2759   \n",
              "left_eyebrow_outer_end_x                                             78.6342   \n",
              "left_eyebrow_outer_end_y                                             30.4059   \n",
              "right_eyebrow_inner_end_x                                            42.7289   \n",
              "right_eyebrow_inner_end_y                                             26.146   \n",
              "right_eyebrow_outer_end_x                                            16.8654   \n",
              "right_eyebrow_outer_end_y                                            27.0589   \n",
              "nose_tip_x                                                           48.2063   \n",
              "nose_tip_y                                                           55.6609   \n",
              "mouth_left_corner_x                                                  56.4214   \n",
              "mouth_left_corner_y                                                   76.352   \n",
              "mouth_right_corner_x                                                 35.1224   \n",
              "mouth_right_corner_y                                                 76.0477   \n",
              "mouth_center_top_lip_x                                               46.6846   \n",
              "mouth_center_top_lip_y                                               70.2666   \n",
              "mouth_center_bottom_lip_x                                            45.4679   \n",
              "mouth_center_bottom_lip_y                                            85.4802   \n",
              "Image                      219 215 204 196 204 211 212 200 180 168 178 19...   \n",
              "\n",
              "                                                                           2  \\\n",
              "left_eye_center_x                                                    65.0571   \n",
              "left_eye_center_y                                                    34.9096   \n",
              "right_eye_center_x                                                   30.9038   \n",
              "right_eye_center_y                                                   34.9096   \n",
              "left_eye_inner_corner_x                                               59.412   \n",
              "left_eye_inner_corner_y                                               36.321   \n",
              "left_eye_outer_corner_x                                              70.9844   \n",
              "left_eye_outer_corner_y                                               36.321   \n",
              "right_eye_inner_corner_x                                             37.6781   \n",
              "right_eye_inner_corner_y                                              36.321   \n",
              "right_eye_outer_corner_x                                             24.9764   \n",
              "right_eye_outer_corner_y                                             36.6032   \n",
              "left_eyebrow_inner_end_x                                             55.7425   \n",
              "left_eyebrow_inner_end_y                                             27.5709   \n",
              "left_eyebrow_outer_end_x                                             78.8874   \n",
              "left_eyebrow_outer_end_y                                             32.6516   \n",
              "right_eyebrow_inner_end_x                                            42.1939   \n",
              "right_eyebrow_inner_end_y                                            28.1355   \n",
              "right_eyebrow_outer_end_x                                            16.7912   \n",
              "right_eyebrow_outer_end_y                                            32.0871   \n",
              "nose_tip_x                                                           47.5573   \n",
              "nose_tip_y                                                           53.5389   \n",
              "mouth_left_corner_x                                                  60.8229   \n",
              "mouth_left_corner_y                                                  73.0143   \n",
              "mouth_right_corner_x                                                 33.7263   \n",
              "mouth_right_corner_y                                                  72.732   \n",
              "mouth_center_top_lip_x                                               47.2749   \n",
              "mouth_center_top_lip_y                                               70.1918   \n",
              "mouth_center_bottom_lip_x                                            47.2749   \n",
              "mouth_center_bottom_lip_y                                            78.6594   \n",
              "Image                      144 142 159 180 188 188 184 180 167 132 84 59 ...   \n",
              "\n",
              "                                                                           3  \\\n",
              "left_eye_center_x                                                    65.2257   \n",
              "left_eye_center_y                                                    37.2618   \n",
              "right_eye_center_x                                                   32.0231   \n",
              "right_eye_center_y                                                   37.2618   \n",
              "left_eye_inner_corner_x                                              60.0033   \n",
              "left_eye_inner_corner_y                                              39.1272   \n",
              "left_eye_outer_corner_x                                              72.3147   \n",
              "left_eye_outer_corner_y                                               38.381   \n",
              "right_eye_inner_corner_x                                             37.6186   \n",
              "right_eye_inner_corner_y                                             38.7541   \n",
              "right_eye_outer_corner_x                                             25.3073   \n",
              "right_eye_outer_corner_y                                             38.0079   \n",
              "left_eyebrow_inner_end_x                                             56.4338   \n",
              "left_eyebrow_inner_end_y                                             30.9299   \n",
              "left_eyebrow_outer_end_x                                             77.9103   \n",
              "left_eyebrow_outer_end_y                                             31.6657   \n",
              "right_eyebrow_inner_end_x                                            41.6715   \n",
              "right_eyebrow_inner_end_y                                              31.05   \n",
              "right_eyebrow_outer_end_x                                             20.458   \n",
              "right_eyebrow_outer_end_y                                            29.9093   \n",
              "nose_tip_x                                                           51.8851   \n",
              "nose_tip_y                                                           54.1665   \n",
              "mouth_left_corner_x                                                  65.5989   \n",
              "mouth_left_corner_y                                                  72.7037   \n",
              "mouth_right_corner_x                                                 37.2455   \n",
              "mouth_right_corner_y                                                 74.1955   \n",
              "mouth_center_top_lip_x                                               50.3032   \n",
              "mouth_center_top_lip_y                                               70.0917   \n",
              "mouth_center_bottom_lip_x                                            51.5612   \n",
              "mouth_center_bottom_lip_y                                            78.2684   \n",
              "Image                      193 192 193 194 194 194 193 192 168 111 50 12 ...   \n",
              "\n",
              "                                                                           4  \n",
              "left_eye_center_x                                                    66.7253  \n",
              "left_eye_center_y                                                    39.6213  \n",
              "right_eye_center_x                                                   32.2448  \n",
              "right_eye_center_y                                                    38.042  \n",
              "left_eye_inner_corner_x                                              58.5659  \n",
              "left_eye_inner_corner_y                                              39.6213  \n",
              "left_eye_outer_corner_x                                              72.5159  \n",
              "left_eye_outer_corner_y                                              39.8845  \n",
              "right_eye_inner_corner_x                                             36.9824  \n",
              "right_eye_inner_corner_y                                             39.0949  \n",
              "right_eye_outer_corner_x                                             22.5061  \n",
              "right_eye_outer_corner_y                                             38.3052  \n",
              "left_eyebrow_inner_end_x                                             57.2496  \n",
              "left_eyebrow_inner_end_y                                             30.6722  \n",
              "left_eyebrow_outer_end_x                                             77.7629  \n",
              "left_eyebrow_outer_end_y                                             31.7372  \n",
              "right_eyebrow_inner_end_x                                            38.0354  \n",
              "right_eyebrow_inner_end_y                                            30.9354  \n",
              "right_eyebrow_outer_end_x                                            15.9259  \n",
              "right_eyebrow_outer_end_y                                            30.6722  \n",
              "nose_tip_x                                                           43.2995  \n",
              "nose_tip_y                                                           64.8895  \n",
              "mouth_left_corner_x                                                  60.6714  \n",
              "mouth_left_corner_y                                                  77.5232  \n",
              "mouth_right_corner_x                                                 31.1918  \n",
              "mouth_right_corner_y                                                 76.9973  \n",
              "mouth_center_top_lip_x                                               44.9627  \n",
              "mouth_center_top_lip_y                                               73.7074  \n",
              "mouth_center_bottom_lip_x                                            44.2271  \n",
              "mouth_center_bottom_lip_y                                            86.8712  \n",
              "Image                      147 148 160 196 215 214 216 217 219 220 206 18...  "
            ]
          },
          "metadata": {
            "tags": []
          },
          "execution_count": 35
        }
      ]
    },
    {
      "cell_type": "code",
      "metadata": {
        "id": "vq6e39NnA7BV",
        "outputId": "1170bb75-6cd9-4a09-9247-ebdf556362e8",
        "colab": {
          "base_uri": "https://localhost:8080/",
          "height": 904
        }
      },
      "source": [
        "# checking missing values\n",
        "missing = train.isnull().sum()\n",
        "bar_missing = missing[missing>0].sort_values()\n",
        "print(bar_missing)\n",
        "bar_missing.plot.bar()"
      ],
      "execution_count": 36,
      "outputs": [
        {
          "output_type": "stream",
          "text": [
            "left_eye_center_x              10\n",
            "left_eye_center_y              10\n",
            "right_eye_center_x             13\n",
            "right_eye_center_y             13\n",
            "mouth_center_bottom_lip_x      33\n",
            "mouth_center_bottom_lip_y      33\n",
            "mouth_center_top_lip_y       4774\n",
            "mouth_center_top_lip_x       4774\n",
            "left_eye_inner_corner_y      4778\n",
            "left_eye_inner_corner_x      4778\n",
            "right_eyebrow_inner_end_x    4779\n",
            "mouth_right_corner_y         4779\n",
            "mouth_right_corner_x         4779\n",
            "right_eyebrow_inner_end_y    4779\n",
            "left_eyebrow_inner_end_y     4779\n",
            "left_eyebrow_inner_end_x     4779\n",
            "mouth_left_corner_x          4780\n",
            "mouth_left_corner_y          4780\n",
            "right_eye_outer_corner_y     4781\n",
            "right_eye_outer_corner_x     4781\n",
            "right_eye_inner_corner_y     4781\n",
            "right_eye_inner_corner_x     4781\n",
            "left_eye_outer_corner_y      4782\n",
            "left_eye_outer_corner_x      4782\n",
            "right_eyebrow_outer_end_x    4813\n",
            "right_eyebrow_outer_end_y    4813\n",
            "left_eyebrow_outer_end_y     4824\n",
            "left_eyebrow_outer_end_x     4824\n",
            "dtype: int64\n"
          ],
          "name": "stdout"
        },
        {
          "output_type": "execute_result",
          "data": {
            "text/plain": [
              "<matplotlib.axes._subplots.AxesSubplot at 0x7f4bb8501978>"
            ]
          },
          "metadata": {
            "tags": []
          },
          "execution_count": 36
        },
        {
          "output_type": "display_data",
          "data": {
            "image/png": "[encoded data removed]",
            "text/plain": [
              "<Figure size 432x288 with 1 Axes>"
            ]
          },
          "metadata": {
            "tags": [],
            "needs_background": "light"
          }
        }
      ]
    },
    {
      "cell_type": "code",
      "metadata": {
        "id": "wf5f-K7IFwvZ",
        "outputId": "92725b63-e117-456f-cd13-b4f7026f19fe",
        "colab": {
          "base_uri": "https://localhost:8080/"
        }
      },
      "source": [
        "# missing values\n",
        "# from pandas docs: \" ffill: propagate last valid observation forward to next valid backfill\"\n",
        "training = train.fillna(method='ffill')\n",
        "missing = training.isnull().sum()\n",
        "bar_missing = missing[missing>0].sort_values()\n",
        "print(bar_missing)"
      ],
      "execution_count": 37,
      "outputs": [
        {
          "output_type": "stream",
          "text": [
            "Series([], dtype: int64)\n"
          ],
          "name": "stdout"
        }
      ]
    },
    {
      "cell_type": "code",
      "metadata": {
        "id": "hBl9rma-IdKH",
        "outputId": "af33bde8-71dd-44c0-a3da-18db4ca799a9",
        "colab": {
          "base_uri": "https://localhost:8080/"
        }
      },
      "source": [
        "training.shape[0]\n",
        "#training['Image'][0]"
      ],
      "execution_count": 38,
      "outputs": [
        {
          "output_type": "execute_result",
          "data": {
            "text/plain": [
              "7049"
            ]
          },
          "metadata": {
            "tags": []
          },
          "execution_count": 38
        }
      ]
    },
    {
      "cell_type": "code",
      "metadata": {
        "id": "b9Obn7SuFmw3"
      },
      "source": [
        "# images in the training set\n",
        "# constructing an array contains all images\n",
        "c = []\n",
        "for i in range(training.shape[0]):\n",
        "  a = training['Image'][i]\n",
        "  b = a.split(' ')\n",
        "  for j in range(96*96):\n",
        "    c.append(float(b[j]))"
      ],
      "execution_count": 39,
      "outputs": []
    },
    {
      "cell_type": "code",
      "metadata": {
        "id": "bnyI6L_PL-U4",
        "outputId": "6992be7e-0aaa-499d-bb80-a3cbcbf2473b",
        "colab": {
          "base_uri": "https://localhost:8080/"
        }
      },
      "source": [
        "# np array for the images in the training set\n",
        "c = np.array(c)\n",
        "train_images = c.reshape(-1,96,96,1)\n",
        "train_images.shape"
      ],
      "execution_count": 40,
      "outputs": [
        {
          "output_type": "execute_result",
          "data": {
            "text/plain": [
              "(7049, 96, 96, 1)"
            ]
          },
          "metadata": {
            "tags": []
          },
          "execution_count": 40
        }
      ]
    },
    {
      "cell_type": "code",
      "metadata": {
        "id": "vZxPhTZkMhnl",
        "outputId": "27fd6f7b-5e08-42e8-be41-9100f5f1d4bf",
        "colab": {
          "base_uri": "https://localhost:8080/",
          "height": 285
        }
      },
      "source": [
        "plt.imshow(train_images[5].reshape(96,96),cmap='gray')"
      ],
      "execution_count": 41,
      "outputs": [
        {
          "output_type": "execute_result",
          "data": {
            "text/plain": [
              "<matplotlib.image.AxesImage at 0x7f4b448980f0>"
            ]
          },
          "metadata": {
            "tags": []
          },
          "execution_count": 41
        },
        {
          "output_type": "display_data",
          "data": {
            "image/png": "[encoded data removed]",
            "text/plain": [
              "<Figure size 432x288 with 1 Axes>"
            ]
          },
          "metadata": {
            "tags": [],
            "needs_background": "light"
          }
        }
      ]
    },
    {
      "cell_type": "code",
      "metadata": {
        "id": "zCBlz0JdywUx"
      },
      "source": [
        "#train_images = train_images/.255"
      ],
      "execution_count": 42,
      "outputs": []
    },
    {
      "cell_type": "code",
      "metadata": {
        "id": "n2-Y48inEkER",
        "outputId": "10d78c2d-4c42-45ac-82c2-dbdaeb196135",
        "colab": {
          "base_uri": "https://localhost:8080/"
        }
      },
      "source": [
        "# labels for the images\n",
        "training_y = training.drop(columns = 'Image')\n",
        "y_train = training_y.values\n",
        "y_train.shape"
      ],
      "execution_count": 43,
      "outputs": [
        {
          "output_type": "execute_result",
          "data": {
            "text/plain": [
              "(7049, 30)"
            ]
          },
          "metadata": {
            "tags": []
          },
          "execution_count": 43
        }
      ]
    },
    {
      "cell_type": "code",
      "metadata": {
        "id": "9Og31xxTGUXn"
      },
      "source": [
        "# creating training and validation sets \n",
        "from sklearn.model_selection import train_test_split\n",
        "X_train, X_valid, yy_train, y_valid = train_test_split(train_images, y_train, test_size = 0.2)"
      ],
      "execution_count": 44,
      "outputs": []
    },
    {
      "cell_type": "code",
      "metadata": {
        "id": "o61cWDW-9G3v"
      },
      "source": [
        "# I used data augmentation, but it seems it does not decrease the mae (mean absolute error)\n",
        "\n",
        "#from keras_preprocessing.image import ImageDataGenerator\n",
        "\n",
        "#training_datagen = ImageDataGenerator(\n",
        "    #  rescale = 1./255,\n",
        "\t   # rotation_range=15,\n",
        "     # zoom_range=0.2,\n",
        "     # width_shift_range=0.2,\n",
        "     # height_shift_range=0.3,\n",
        "      #shear_range=0.3,\n",
        "      #fill_mode='nearest'\n",
        "      #)\n",
        "#validation_datagen = ImageDataGenerator(rescale = 1./255)\n",
        "\n",
        "#training_datagen.fit(X_train)\n",
        "#validation_datagen.fit(X_valid)\n"
      ],
      "execution_count": 45,
      "outputs": []
    },
    {
      "cell_type": "code",
      "metadata": {
        "id": "ZMPr4Ns-PP7B",
        "outputId": "d788a2ea-6a85-4625-fc3e-ac6945a9ac34",
        "colab": {
          "base_uri": "https://localhost:8080/"
        }
      },
      "source": [
        "# CNN (convolutional neural network) model: \n",
        "# Best private Score = 2.46015, Best Public Score = 2.62412\n",
        "\n",
        "\n",
        "# This model is inspired by the model in https://www.kaggle.com/karanjakhar/facial-keypoint-detection\n",
        "# we use BatchNormalization since this is a deep network and we need to prevent \n",
        "# of happening vanishing or infinity gradients.\n",
        "\n",
        "from functools import partial\n",
        "\n",
        "model = tf.keras.models.Sequential([\n",
        "    tf.keras.layers.Conv2D(filters= 32, kernel_size = (3,3), activation=partial(tf.nn.leaky_relu, alpha=0.3),\n",
        "                           input_shape=(96, 96, 1), padding = 'same'),\n",
        "    tf.keras.layers.BatchNormalization(),\n",
        "\n",
        "    tf.keras.layers.Conv2D(filters= 32, kernel_size = (3,3), activation=partial(tf.nn.leaky_relu, alpha=0.3),\n",
        "                           padding = 'same'),\n",
        "    tf.keras.layers.BatchNormalization(),\n",
        "    tf.keras.layers.MaxPooling2D(pool_size = (2, 2)),\n",
        "\n",
        "    tf.keras.layers.Conv2D(filters= 64, kernel_size = (3,3), activation=partial(tf.nn.leaky_relu, alpha=0.2),\n",
        "                           padding = 'same'),\n",
        "    tf.keras.layers.BatchNormalization(),\n",
        "\n",
        "    tf.keras.layers.Conv2D(filters= 64, kernel_size = (3,3), activation=partial(tf.nn.leaky_relu, alpha=0.2),\n",
        "                           padding = 'same'),\n",
        "    tf.keras.layers.BatchNormalization(),\n",
        "    tf.keras.layers.MaxPooling2D(pool_size = (2, 2)),\n",
        "\n",
        "\n",
        "    tf.keras.layers.Conv2D(filters= 128, kernel_size = (3,3), activation=partial(tf.nn.leaky_relu, alpha=0.1),\n",
        "                           padding = 'same'),\n",
        "    tf.keras.layers.BatchNormalization(),\n",
        "\n",
        "    tf.keras.layers.Conv2D(filters= 128, kernel_size = (3,3), activation=partial(tf.nn.leaky_relu, alpha=0.2),\n",
        "                           padding = 'same'),\n",
        "    tf.keras.layers.BatchNormalization(),\n",
        "    tf.keras.layers.MaxPooling2D(pool_size = (2, 2)),\n",
        "\n",
        "    tf.keras.layers.Conv2D(filters= 256, kernel_size = (3,3), activation=partial(tf.nn.leaky_relu, alpha=0.2),\n",
        "                           padding = 'same'),\n",
        "    tf.keras.layers.BatchNormalization(),\n",
        "\n",
        "    tf.keras.layers.Conv2D(filters= 256, kernel_size = (3,3), activation=partial(tf.nn.leaky_relu, alpha=0.05),\n",
        "                           padding = 'same'),\n",
        "    tf.keras.layers.BatchNormalization(),\n",
        "    tf.keras.layers.MaxPooling2D(pool_size = (2, 2)),\n",
        "\n",
        "    tf.keras.layers.Conv2D(filters= 512, kernel_size = (3,3), activation=partial(tf.nn.leaky_relu, alpha=0.2),\n",
        "                           padding = 'same'),\n",
        "    tf.keras.layers.BatchNormalization(),\n",
        "\n",
        "    tf.keras.layers.Conv2D(filters= 512, kernel_size = (3,3), activation=partial(tf.nn.leaky_relu, alpha=0.2),\n",
        "                           padding = 'same'),\n",
        "    tf.keras.layers.BatchNormalization(),\n",
        "\n",
        "\n",
        "    tf.keras.layers.Flatten(),\n",
        "    tf.keras.layers.Dense(units = 1024, activation=partial(tf.nn.leaky_relu, alpha=0.05)),\n",
        "    tf.keras.layers.Dropout(rate = 0.3),\n",
        "   # tf.keras.layers.Dense(units = 128, activation=partial(tf.nn.leaky_relu, alpha=0.2)),\n",
        "  #  tf.keras.layers.Dropout(rate = 0.3),\n",
        "    tf.keras.layers.Dense(units = 128, activation=partial(tf.nn.leaky_relu, alpha=0.1)),\n",
        "    tf.keras.layers.Dropout(rate = 0.1),\n",
        "    tf.keras.layers.Dense(units = 30)  # 15 (x,y) cooridinates\n",
        "])\n",
        "\n",
        "model.summary()\n",
        "\n",
        "\n",
        "optimizer = tf.keras.optimizers.Adam()\n",
        "#optimizer = tf.keras.optimizers.RMSprop()\n",
        "\n",
        "\n",
        "model.compile(loss = 'mean_squared_error', optimizer=optimizer, metrics=['mae'])\n",
        "\n",
        "\n",
        "from tensorflow.keras.callbacks import LearningRateScheduler\n",
        "\n",
        "\n",
        "\n",
        "ModelHistory = model.fit(x=X_train, y=yy_train, batch_size=64\n",
        "                  , epochs=40, steps_per_epoch=X_train.shape[0]//64,\n",
        "                    validation_data = (X_valid, y_valid),\n",
        "                    verbose = 2)\n",
        "\n"
      ],
      "execution_count": 46,
      "outputs": [
        {
          "output_type": "stream",
          "text": [
            "Model: \"sequential_2\"\n",
            "_________________________________________________________________\n",
            "Layer (type)                 Output Shape              Param #   \n",
            "=================================================================\n",
            "conv2d_20 (Conv2D)           (None, 96, 96, 32)        320       \n",
            "_________________________________________________________________\n",
            "batch_normalization_20 (Batc (None, 96, 96, 32)        128       \n",
            "_________________________________________________________________\n",
            "conv2d_21 (Conv2D)           (None, 96, 96, 32)        9248      \n",
            "_________________________________________________________________\n",
            "batch_normalization_21 (Batc (None, 96, 96, 32)        128       \n",
            "_________________________________________________________________\n",
            "max_pooling2d_8 (MaxPooling2 (None, 48, 48, 32)        0         \n",
            "_________________________________________________________________\n",
            "conv2d_22 (Conv2D)           (None, 48, 48, 64)        18496     \n",
            "_________________________________________________________________\n",
            "batch_normalization_22 (Batc (None, 48, 48, 64)        256       \n",
            "_________________________________________________________________\n",
            "conv2d_23 (Conv2D)           (None, 48, 48, 64)        36928     \n",
            "_________________________________________________________________\n",
            "batch_normalization_23 (Batc (None, 48, 48, 64)        256       \n",
            "_________________________________________________________________\n",
            "max_pooling2d_9 (MaxPooling2 (None, 24, 24, 64)        0         \n",
            "_________________________________________________________________\n",
            "conv2d_24 (Conv2D)           (None, 24, 24, 128)       73856     \n",
            "_________________________________________________________________\n",
            "batch_normalization_24 (Batc (None, 24, 24, 128)       512       \n",
            "_________________________________________________________________\n",
            "conv2d_25 (Conv2D)           (None, 24, 24, 128)       147584    \n",
            "_________________________________________________________________\n",
            "batch_normalization_25 (Batc (None, 24, 24, 128)       512       \n",
            "_________________________________________________________________\n",
            "max_pooling2d_10 (MaxPooling (None, 12, 12, 128)       0         \n",
            "_________________________________________________________________\n",
            "conv2d_26 (Conv2D)           (None, 12, 12, 256)       295168    \n",
            "_________________________________________________________________\n",
            "batch_normalization_26 (Batc (None, 12, 12, 256)       1024      \n",
            "_________________________________________________________________\n",
            "conv2d_27 (Conv2D)           (None, 12, 12, 256)       590080    \n",
            "_________________________________________________________________\n",
            "batch_normalization_27 (Batc (None, 12, 12, 256)       1024      \n",
            "_________________________________________________________________\n",
            "max_pooling2d_11 (MaxPooling (None, 6, 6, 256)         0         \n",
            "_________________________________________________________________\n",
            "conv2d_28 (Conv2D)           (None, 6, 6, 512)         1180160   \n",
            "_________________________________________________________________\n",
            "batch_normalization_28 (Batc (None, 6, 6, 512)         2048      \n",
            "_________________________________________________________________\n",
            "conv2d_29 (Conv2D)           (None, 6, 6, 512)         2359808   \n",
            "_________________________________________________________________\n",
            "batch_normalization_29 (Batc (None, 6, 6, 512)         2048      \n",
            "_________________________________________________________________\n",
            "flatten_2 (Flatten)          (None, 18432)             0         \n",
            "_________________________________________________________________\n",
            "dense_6 (Dense)              (None, 1024)              18875392  \n",
            "_________________________________________________________________\n",
            "dropout_4 (Dropout)          (None, 1024)              0         \n",
            "_________________________________________________________________\n",
            "dense_7 (Dense)              (None, 128)               131200    \n",
            "_________________________________________________________________\n",
            "dropout_5 (Dropout)          (None, 128)               0         \n",
            "_________________________________________________________________\n",
            "dense_8 (Dense)              (None, 30)                3870      \n",
            "=================================================================\n",
            "Total params: 23,730,046\n",
            "Trainable params: 23,726,078\n",
            "Non-trainable params: 3,968\n",
            "_________________________________________________________________\n",
            "Epoch 1/40\n",
            "WARNING:tensorflow:Callbacks method `on_train_batch_end` is slow compared to the batch time (batch time: 0.0387s vs `on_train_batch_end` time: 0.0683s). Check your callbacks.\n",
            "88/88 - 9s - loss: 237.5253 - mae: 10.8864 - val_loss: 166.3859 - val_mae: 11.0214\n",
            "Epoch 2/40\n",
            "88/88 - 9s - loss: 64.0521 - mae: 6.2455 - val_loss: 31.2389 - val_mae: 4.6672\n",
            "Epoch 3/40\n",
            "88/88 - 9s - loss: 41.4610 - mae: 5.0002 - val_loss: 9.2169 - val_mae: 2.0567\n",
            "Epoch 4/40\n",
            "88/88 - 9s - loss: 30.3224 - mae: 4.2327 - val_loss: 9.2910 - val_mae: 2.2115\n",
            "Epoch 5/40\n",
            "88/88 - 9s - loss: 25.5063 - mae: 3.8685 - val_loss: 15.1432 - val_mae: 3.0671\n",
            "Epoch 6/40\n",
            "88/88 - 9s - loss: 24.1705 - mae: 3.7477 - val_loss: 16.4874 - val_mae: 3.2614\n",
            "Epoch 7/40\n",
            "88/88 - 9s - loss: 21.5972 - mae: 3.5305 - val_loss: 7.1110 - val_mae: 1.8025\n",
            "Epoch 8/40\n",
            "88/88 - 9s - loss: 19.8181 - mae: 3.3550 - val_loss: 6.7880 - val_mae: 1.7493\n",
            "Epoch 9/40\n",
            "88/88 - 9s - loss: 19.3347 - mae: 3.3110 - val_loss: 9.4617 - val_mae: 2.2194\n",
            "Epoch 10/40\n",
            "88/88 - 9s - loss: 18.3879 - mae: 3.2324 - val_loss: 6.1882 - val_mae: 1.6670\n",
            "Epoch 11/40\n",
            "88/88 - 9s - loss: 18.1301 - mae: 3.1823 - val_loss: 8.0749 - val_mae: 2.0564\n",
            "Epoch 12/40\n",
            "88/88 - 9s - loss: 17.1214 - mae: 3.0990 - val_loss: 18.2834 - val_mae: 3.5992\n",
            "Epoch 13/40\n",
            "88/88 - 9s - loss: 16.7097 - mae: 3.0490 - val_loss: 6.2921 - val_mae: 1.7477\n",
            "Epoch 14/40\n",
            "88/88 - 9s - loss: 15.8294 - mae: 2.9662 - val_loss: 5.1838 - val_mae: 1.4873\n",
            "Epoch 15/40\n",
            "88/88 - 9s - loss: 14.6806 - mae: 2.8505 - val_loss: 5.0917 - val_mae: 1.4428\n",
            "Epoch 16/40\n",
            "88/88 - 9s - loss: 15.1046 - mae: 2.8816 - val_loss: 5.2606 - val_mae: 1.5136\n",
            "Epoch 17/40\n",
            "88/88 - 9s - loss: 14.6371 - mae: 2.8420 - val_loss: 5.0862 - val_mae: 1.5340\n",
            "Epoch 18/40\n",
            "88/88 - 9s - loss: 14.1437 - mae: 2.7707 - val_loss: 5.7347 - val_mae: 1.6782\n",
            "Epoch 19/40\n",
            "88/88 - 9s - loss: 13.2583 - mae: 2.7226 - val_loss: 4.7240 - val_mae: 1.3988\n",
            "Epoch 20/40\n",
            "88/88 - 9s - loss: 13.2448 - mae: 2.6777 - val_loss: 7.9198 - val_mae: 2.1464\n",
            "Epoch 21/40\n",
            "88/88 - 9s - loss: 12.9116 - mae: 2.6409 - val_loss: 4.7756 - val_mae: 1.4337\n",
            "Epoch 22/40\n",
            "88/88 - 9s - loss: 12.9807 - mae: 2.6498 - val_loss: 4.5561 - val_mae: 1.3614\n",
            "Epoch 23/40\n",
            "88/88 - 9s - loss: 13.6193 - mae: 2.7448 - val_loss: 7.0091 - val_mae: 2.0208\n",
            "Epoch 24/40\n",
            "88/88 - 9s - loss: 13.1091 - mae: 2.6690 - val_loss: 6.4782 - val_mae: 1.8288\n",
            "Epoch 25/40\n",
            "88/88 - 9s - loss: 12.8462 - mae: 2.6420 - val_loss: 4.5711 - val_mae: 1.3977\n",
            "Epoch 26/40\n",
            "88/88 - 9s - loss: 12.6146 - mae: 2.6152 - val_loss: 7.4016 - val_mae: 2.0676\n",
            "Epoch 27/40\n",
            "88/88 - 9s - loss: 12.3297 - mae: 2.5896 - val_loss: 8.5158 - val_mae: 2.2896\n",
            "Epoch 28/40\n",
            "88/88 - 9s - loss: 11.6527 - mae: 2.5240 - val_loss: 5.4480 - val_mae: 1.6818\n",
            "Epoch 29/40\n",
            "88/88 - 9s - loss: 11.7402 - mae: 2.5336 - val_loss: 6.2184 - val_mae: 1.8130\n",
            "Epoch 30/40\n",
            "88/88 - 9s - loss: 11.6049 - mae: 2.5046 - val_loss: 7.5097 - val_mae: 2.0930\n",
            "Epoch 31/40\n",
            "88/88 - 9s - loss: 11.5281 - mae: 2.4891 - val_loss: 4.2268 - val_mae: 1.2977\n",
            "Epoch 32/40\n",
            "88/88 - 9s - loss: 11.2280 - mae: 2.4722 - val_loss: 4.6962 - val_mae: 1.4638\n",
            "Epoch 33/40\n",
            "88/88 - 9s - loss: 10.6145 - mae: 2.4029 - val_loss: 4.5950 - val_mae: 1.4337\n",
            "Epoch 34/40\n",
            "88/88 - 9s - loss: 10.7577 - mae: 2.4190 - val_loss: 4.5288 - val_mae: 1.3852\n",
            "Epoch 35/40\n",
            "88/88 - 9s - loss: 10.7386 - mae: 2.4049 - val_loss: 4.7250 - val_mae: 1.4058\n",
            "Epoch 36/40\n",
            "88/88 - 9s - loss: 10.7338 - mae: 2.4273 - val_loss: 4.8282 - val_mae: 1.5321\n",
            "Epoch 37/40\n",
            "88/88 - 9s - loss: 10.1609 - mae: 2.3444 - val_loss: 7.9652 - val_mae: 2.1562\n",
            "Epoch 38/40\n",
            "88/88 - 9s - loss: 10.9910 - mae: 2.4391 - val_loss: 5.1502 - val_mae: 1.5530\n",
            "Epoch 39/40\n",
            "88/88 - 9s - loss: 10.1666 - mae: 2.3392 - val_loss: 4.3337 - val_mae: 1.3308\n",
            "Epoch 40/40\n",
            "88/88 - 9s - loss: 10.3119 - mae: 2.3668 - val_loss: 4.9745 - val_mae: 1.4345\n"
          ],
          "name": "stdout"
        }
      ]
    },
    {
      "cell_type": "code",
      "metadata": {
        "id": "VNMqo24DzKRB",
        "outputId": "38c70556-1dcd-4c1d-f1a7-b73f3b539e33",
        "colab": {
          "base_uri": "https://localhost:8080/",
          "height": 312
        }
      },
      "source": [
        "# mae vs iterations\n",
        "\n",
        "TrainAcc = ModelHistory.history['mae']\n",
        "ValAcc = ModelHistory.history['val_mae']\n",
        "TrainLoss = ModelHistory.history['loss']\n",
        "ValLoss = ModelHistory.history['val_loss']\n",
        "\n",
        "Nepochs = range(len(TrainAcc))\n",
        "\n",
        "plt.plot(Nepochs, TrainAcc, 'k', label='Training')\n",
        "plt.plot(Nepochs, ValAcc, 'r', label='Validation')\n",
        "plt.title('mae - Training & validation')\n",
        "plt.ylabel('mae')\n",
        "plt.xlabel('Iteration')\n",
        "plt.legend(loc=0)\n",
        "plt.figure()\n",
        "\n",
        "\n",
        "plt.show()"
      ],
      "execution_count": 47,
      "outputs": [
        {
          "output_type": "display_data",
          "data": {
            "image/png": "[encoded data removed]",
            "text/plain": [
              "<Figure size 432x288 with 1 Axes>"
            ]
          },
          "metadata": {
            "tags": [],
            "needs_background": "light"
          }
        },
        {
          "output_type": "display_data",
          "data": {
            "text/plain": [
              "<Figure size 432x288 with 0 Axes>"
            ]
          },
          "metadata": {
            "tags": []
          }
        }
      ]
    },
    {
      "cell_type": "code",
      "metadata": {
        "id": "3mrTHOAJs6Jz",
        "outputId": "4a62b0d0-80b2-46af-c256-97874c8f634e",
        "colab": {
          "base_uri": "https://localhost:8080/"
        }
      },
      "source": [
        "# preparing the test set\n",
        "testing = test.fillna(method='ffill')\n",
        "missing = testing.isnull().sum()\n",
        "bar_missing = missing[missing>0].sort_values()\n",
        "print(bar_missing)"
      ],
      "execution_count": 48,
      "outputs": [
        {
          "output_type": "stream",
          "text": [
            "Series([], dtype: int64)\n"
          ],
          "name": "stdout"
        }
      ]
    },
    {
      "cell_type": "code",
      "metadata": {
        "id": "44dyxHSztDiV"
      },
      "source": [
        "# the images in the test set\n",
        "# constructing array containing all images\n",
        "c = []\n",
        "for i in range(testing.shape[0]):\n",
        "  a = testing ['Image'][i]\n",
        "  b = a.split(' ')\n",
        "  for j in range(96*96):\n",
        "    c.append(float(b[j]))"
      ],
      "execution_count": 49,
      "outputs": []
    },
    {
      "cell_type": "code",
      "metadata": {
        "id": "dN42Ro_LtMau",
        "outputId": "6ad9fe4a-0f01-4982-b630-d1882ef6b355",
        "colab": {
          "base_uri": "https://localhost:8080/"
        }
      },
      "source": [
        "# np array for the images in the test set\n",
        "c = np.array(c)\n",
        "test_images = c.reshape(-1,96,96,1)\n",
        "test_images.shape"
      ],
      "execution_count": 50,
      "outputs": [
        {
          "output_type": "execute_result",
          "data": {
            "text/plain": [
              "(1783, 96, 96, 1)"
            ]
          },
          "metadata": {
            "tags": []
          },
          "execution_count": 50
        }
      ]
    },
    {
      "cell_type": "code",
      "metadata": {
        "id": "l4lkiW1Sy32J"
      },
      "source": [
        "#test_images = test_images/255"
      ],
      "execution_count": 51,
      "outputs": []
    },
    {
      "cell_type": "code",
      "metadata": {
        "id": "5J8d1kU6tR42"
      },
      "source": [
        "# predicting \n",
        "predict = model.predict(test_images)"
      ],
      "execution_count": 52,
      "outputs": []
    }
  ]
}